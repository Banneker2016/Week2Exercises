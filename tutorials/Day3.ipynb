{
 "metadata": {
  "name": "",
  "signature": "sha256:09c7baeb53b3f0da135b0c50224dead573e2b3f848b8bc27efa923377bf6ad60"
 },
 "nbformat": 3,
 "nbformat_minor": 0,
 "worksheets": [
  {
   "cells": [
    {
     "cell_type": "markdown",
     "metadata": {},
     "source": [
      "Yesterday we talked about if statements and for loops. Today let's add in \"while\" loops."
     ]
    },
    {
     "cell_type": "markdown",
     "metadata": {},
     "source": [
      "A while loop continues to do something _while_ some criterion is still true. This gives you the advantage of not being tied down to a fixed number of steps beforehand. Good! This is especially useful for things like minimization. You know you're doing some process to find the minimium, but you don't necessarily know when you'll get there. This is important in astrophysics for things like Kepler's equation. It has a potential disadvantage though---you may never break the loop!"
     ]
    },
    {
     "cell_type": "code",
     "collapsed": false,
     "input": [
      "g = 0\n",
      "while g < 10:\n",
      "    print g\n",
      "    g += 1\n",
      "    "
     ],
     "language": "python",
     "metadata": {},
     "outputs": [
      {
       "output_type": "stream",
       "stream": "stdout",
       "text": [
        "0\n",
        "1\n",
        "2\n",
        "3\n",
        "4\n",
        "5\n",
        "6\n",
        "7\n",
        "8\n",
        "9\n"
       ]
      }
     ],
     "prompt_number": 2
    },
    {
     "cell_type": "code",
     "collapsed": false,
     "input": [
      "g = 10\n",
      "while g != 5:\n",
      "    g -= 0.000001\n",
      "print g"
     ],
     "language": "python",
     "metadata": {},
     "outputs": []
    },
    {
     "cell_type": "code",
     "collapsed": false,
     "input": [
      "g = 10\n",
      "while abs(g - 5) > 0.001:\n",
      "    g -= 0.001\n",
      "print g"
     ],
     "language": "python",
     "metadata": {},
     "outputs": [
      {
       "output_type": "stream",
       "stream": "stdout",
       "text": [
        "5.0\n"
       ]
      }
     ],
     "prompt_number": 6
    },
    {
     "cell_type": "heading",
     "level": 6,
     "metadata": {},
     "source": [
      "Breakout!"
     ]
    },
    {
     "cell_type": "markdown",
     "metadata": {},
     "source": [
      "Update your FizzBuzz code to use a while loop instead of a for loop."
     ]
    },
    {
     "cell_type": "heading",
     "level": 6,
     "metadata": {},
     "source": [
      "Tuples and lists."
     ]
    },
    {
     "cell_type": "markdown",
     "metadata": {},
     "source": [
      "Tuples are immutable ordered arrays. Lists are mutuable."
     ]
    },
    {
     "cell_type": "markdown",
     "metadata": {},
     "source": [
      "Also: dictionaries. A mapping from keys to values."
     ]
    },
    {
     "cell_type": "markdown",
     "metadata": {},
     "source": [
      "First, let's talk about tuples. These are defined using parentheses."
     ]
    },
    {
     "cell_type": "code",
     "collapsed": false,
     "input": [
      "t = (12, -1)\n",
      "print(type(t))"
     ],
     "language": "python",
     "metadata": {},
     "outputs": [
      {
       "output_type": "stream",
       "stream": "stdout",
       "text": [
        "<type 'tuple'>\n"
       ]
      }
     ],
     "prompt_number": 7
    },
    {
     "cell_type": "code",
     "collapsed": false,
     "input": [
      "print(isinstance(t,tuple))\n",
      "print(len(t))"
     ],
     "language": "python",
     "metadata": {},
     "outputs": [
      {
       "output_type": "stream",
       "stream": "stdout",
       "text": [
        "True\n",
        "2\n"
       ]
      }
     ],
     "prompt_number": 8
    },
    {
     "cell_type": "code",
     "collapsed": false,
     "input": [
      "t = (12, \"monty\", True, -1.23e6)\n",
      "print(t[1])"
     ],
     "language": "python",
     "metadata": {},
     "outputs": [
      {
       "output_type": "stream",
       "stream": "stdout",
       "text": [
        "monty\n"
       ]
      }
     ],
     "prompt_number": 9
    },
    {
     "cell_type": "code",
     "collapsed": false,
     "input": [
      "t[-2:]  # get the last two elements, return as a tuple"
     ],
     "language": "python",
     "metadata": {},
     "outputs": [
      {
       "metadata": {},
       "output_type": "pyout",
       "prompt_number": 10,
       "text": [
        "(True, -1230000.0)"
       ]
      }
     ],
     "prompt_number": 10
    },
    {
     "cell_type": "code",
     "collapsed": false,
     "input": [
      "x = ()\n",
      "type(x), len(x)\n"
     ],
     "language": "python",
     "metadata": {},
     "outputs": [
      {
       "metadata": {},
       "output_type": "pyout",
       "prompt_number": 11,
       "text": [
        "(tuple, 0)"
       ]
      }
     ],
     "prompt_number": 11
    },
    {
     "cell_type": "markdown",
     "metadata": {},
     "source": [
      "You can't modify a tuple. You can concatenate multiple tuples together."
     ]
    },
    {
     "cell_type": "code",
     "collapsed": false,
     "input": [
      "y = t[0:2] + (False,) + t[3:]\n",
      "y"
     ],
     "language": "python",
     "metadata": {},
     "outputs": [
      {
       "metadata": {},
       "output_type": "pyout",
       "prompt_number": 12,
       "text": [
        "(12, 'monty', False, -1230000.0)"
       ]
      }
     ],
     "prompt_number": 12
    },
    {
     "cell_type": "markdown",
     "metadata": {},
     "source": [
      "Lists have lots of the same functionality as tuples, but can be modified. They use square brackets. (You saw one yesterday)."
     ]
    },
    {
     "cell_type": "code",
     "collapsed": false,
     "input": [
      "v = [\"eggs\", \"I\", -1, (\"monty\",\"python\"), [-1.2,-3.5]]\n",
      "len(v)"
     ],
     "language": "python",
     "metadata": {},
     "outputs": [
      {
       "metadata": {},
       "output_type": "pyout",
       "prompt_number": 13,
       "text": [
        "5"
       ]
      }
     ],
     "prompt_number": 13
    },
    {
     "cell_type": "code",
     "collapsed": false,
     "input": [
      "v[0] =\"green egg\"\n",
      "v[1] += \" love it.\"\n",
      "v[-1]"
     ],
     "language": "python",
     "metadata": {},
     "outputs": [
      {
       "metadata": {},
       "output_type": "pyout",
       "prompt_number": 14,
       "text": [
        "[-1.2, -3.5]"
       ]
      }
     ],
     "prompt_number": 14
    },
    {
     "cell_type": "code",
     "collapsed": false,
     "input": [
      "v = [1,2,3]\n",
      "v.append(4)\n",
      "v.append([-5])\n",
      "v"
     ],
     "language": "python",
     "metadata": {},
     "outputs": [
      {
       "metadata": {},
       "output_type": "pyout",
       "prompt_number": 15,
       "text": [
        "[1, 2, 3, 4, [-5]]"
       ]
      }
     ],
     "prompt_number": 15
    },
    {
     "cell_type": "markdown",
     "metadata": {},
     "source": [
      "\n",
      "Note: lists can be considered objects. Objects are collections of data and associated methods. In the case of a list, append is a method: it is a function associated with the object."
     ]
    },
    {
     "cell_type": "code",
     "collapsed": false,
     "input": [
      "w = ['elderberries', 'eggs']"
     ],
     "language": "python",
     "metadata": {},
     "outputs": [],
     "prompt_number": 16
    },
    {
     "cell_type": "code",
     "collapsed": false,
     "input": [
      "v.extend(w)\n",
      "v"
     ],
     "language": "python",
     "metadata": {},
     "outputs": [
      {
       "metadata": {},
       "output_type": "pyout",
       "prompt_number": 17,
       "text": [
        "[1, 2, 3, 4, [-5], 'elderberries', 'eggs']"
       ]
      }
     ],
     "prompt_number": 17
    },
    {
     "cell_type": "code",
     "collapsed": false,
     "input": [
      "v.pop()"
     ],
     "language": "python",
     "metadata": {},
     "outputs": [
      {
       "metadata": {},
       "output_type": "pyout",
       "prompt_number": 18,
       "text": [
        "'eggs'"
       ]
      }
     ],
     "prompt_number": 18
    },
    {
     "cell_type": "code",
     "collapsed": false,
     "input": [
      "v"
     ],
     "language": "python",
     "metadata": {},
     "outputs": [
      {
       "metadata": {},
       "output_type": "pyout",
       "prompt_number": 19,
       "text": [
        "[1, 2, 3, 4, [-5], 'elderberries']"
       ]
      }
     ],
     "prompt_number": 19
    },
    {
     "cell_type": "code",
     "collapsed": false,
     "input": [
      "v.pop(0) ## pop the first element"
     ],
     "language": "python",
     "metadata": {},
     "outputs": [
      {
       "metadata": {},
       "output_type": "pyout",
       "prompt_number": 20,
       "text": [
        "1"
       ]
      }
     ],
     "prompt_number": 20
    },
    {
     "cell_type": "code",
     "collapsed": false,
     "input": [
      "v"
     ],
     "language": "python",
     "metadata": {},
     "outputs": [
      {
       "metadata": {},
       "output_type": "pyout",
       "prompt_number": 21,
       "text": [
        "[2, 3, 4, [-5], 'elderberries']"
       ]
      }
     ],
     "prompt_number": 21
    },
    {
     "cell_type": "markdown",
     "metadata": {},
     "source": [
      "Useful list methods:\n",
      "\n",
      ".append(): adds a new element\n",
      "\n",
      ".extend(): concatenates a list/element\n",
      "\n",
      ".pop(): remove an element"
     ]
    },
    {
     "cell_type": "code",
     "collapsed": false,
     "input": [
      "help(v.index(2))"
     ],
     "language": "python",
     "metadata": {},
     "outputs": [
      {
       "output_type": "stream",
       "stream": "stdout",
       "text": [
        "Help on int object:\n",
        "\n",
        "class int(object)\n",
        " |  int(x=0) -> int or long\n",
        " |  int(x, base=10) -> int or long\n",
        " |  \n",
        " |  Convert a number or string to an integer, or return 0 if no arguments\n",
        " |  are given.  If x is floating point, the conversion truncates towards zero.\n",
        " |  If x is outside the integer range, the function returns a long instead.\n",
        " |  \n",
        " |  If x is not a number or if base is given, then x must be a string or\n",
        " |  Unicode object representing an integer literal in the given base.  The\n",
        " |  literal can be preceded by '+' or '-' and be surrounded by whitespace.\n",
        " |  The base defaults to 10.  Valid bases are 0 and 2-36.  Base 0 means to\n",
        " |  interpret the base from the string as an integer literal.\n",
        " |  >>> int('0b100', base=0)\n",
        " |  4\n",
        " |  \n",
        " |  Methods defined here:\n",
        " |  \n",
        " |  __abs__(...)\n",
        " |      x.__abs__() <==> abs(x)\n",
        " |  \n",
        " |  __add__(...)\n",
        " |      x.__add__(y) <==> x+y\n",
        " |  \n",
        " |  __and__(...)\n",
        " |      x.__and__(y) <==> x&y\n",
        " |  \n",
        " |  __cmp__(...)\n",
        " |      x.__cmp__(y) <==> cmp(x,y)\n",
        " |  \n",
        " |  __coerce__(...)\n",
        " |      x.__coerce__(y) <==> coerce(x, y)\n",
        " |  \n",
        " |  __div__(...)\n",
        " |      x.__div__(y) <==> x/y\n",
        " |  \n",
        " |  __divmod__(...)\n",
        " |      x.__divmod__(y) <==> divmod(x, y)\n",
        " |  \n",
        " |  __float__(...)\n",
        " |      x.__float__() <==> float(x)\n",
        " |  \n",
        " |  __floordiv__(...)\n",
        " |      x.__floordiv__(y) <==> x//y\n",
        " |  \n",
        " |  __format__(...)\n",
        " |  \n",
        " |  __getattribute__(...)\n",
        " |      x.__getattribute__('name') <==> x.name\n",
        " |  \n",
        " |  __getnewargs__(...)\n",
        " |  \n",
        " |  __hash__(...)\n",
        " |      x.__hash__() <==> hash(x)\n",
        " |  \n",
        " |  __hex__(...)\n",
        " |      x.__hex__() <==> hex(x)\n",
        " |  \n",
        " |  __index__(...)\n",
        " |      x[y:z] <==> x[y.__index__():z.__index__()]\n",
        " |  \n",
        " |  __int__(...)\n",
        " |      x.__int__() <==> int(x)\n",
        " |  \n",
        " |  __invert__(...)\n",
        " |      x.__invert__() <==> ~x\n",
        " |  \n",
        " |  __long__(...)\n",
        " |      x.__long__() <==> long(x)\n",
        " |  \n",
        " |  __lshift__(...)\n",
        " |      x.__lshift__(y) <==> x<<y\n",
        " |  \n",
        " |  __mod__(...)\n",
        " |      x.__mod__(y) <==> x%y\n",
        " |  \n",
        " |  __mul__(...)\n",
        " |      x.__mul__(y) <==> x*y\n",
        " |  \n",
        " |  __neg__(...)\n",
        " |      x.__neg__() <==> -x\n",
        " |  \n",
        " |  __nonzero__(...)\n",
        " |      x.__nonzero__() <==> x != 0\n",
        " |  \n",
        " |  __oct__(...)\n",
        " |      x.__oct__() <==> oct(x)\n",
        " |  \n",
        " |  __or__(...)\n",
        " |      x.__or__(y) <==> x|y\n",
        " |  \n",
        " |  __pos__(...)\n",
        " |      x.__pos__() <==> +x\n",
        " |  \n",
        " |  __pow__(...)\n",
        " |      x.__pow__(y[, z]) <==> pow(x, y[, z])\n",
        " |  \n",
        " |  __radd__(...)\n",
        " |      x.__radd__(y) <==> y+x\n",
        " |  \n",
        " |  __rand__(...)\n",
        " |      x.__rand__(y) <==> y&x\n",
        " |  \n",
        " |  __rdiv__(...)\n",
        " |      x.__rdiv__(y) <==> y/x\n",
        " |  \n",
        " |  __rdivmod__(...)\n",
        " |      x.__rdivmod__(y) <==> divmod(y, x)\n",
        " |  \n",
        " |  __repr__(...)\n",
        " |      x.__repr__() <==> repr(x)\n",
        " |  \n",
        " |  __rfloordiv__(...)\n",
        " |      x.__rfloordiv__(y) <==> y//x\n",
        " |  \n",
        " |  __rlshift__(...)\n",
        " |      x.__rlshift__(y) <==> y<<x\n",
        " |  \n",
        " |  __rmod__(...)\n",
        " |      x.__rmod__(y) <==> y%x\n",
        " |  \n",
        " |  __rmul__(...)\n",
        " |      x.__rmul__(y) <==> y*x\n",
        " |  \n",
        " |  __ror__(...)\n",
        " |      x.__ror__(y) <==> y|x\n",
        " |  \n",
        " |  __rpow__(...)\n",
        " |      y.__rpow__(x[, z]) <==> pow(x, y[, z])\n",
        " |  \n",
        " |  __rrshift__(...)\n",
        " |      x.__rrshift__(y) <==> y>>x\n",
        " |  \n",
        " |  __rshift__(...)\n",
        " |      x.__rshift__(y) <==> x>>y\n",
        " |  \n",
        " |  __rsub__(...)\n",
        " |      x.__rsub__(y) <==> y-x\n",
        " |  \n",
        " |  __rtruediv__(...)\n",
        " |      x.__rtruediv__(y) <==> y/x\n",
        " |  \n",
        " |  __rxor__(...)\n",
        " |      x.__rxor__(y) <==> y^x\n",
        " |  \n",
        " |  __str__(...)\n",
        " |      x.__str__() <==> str(x)\n",
        " |  \n",
        " |  __sub__(...)\n",
        " |      x.__sub__(y) <==> x-y\n",
        " |  \n",
        " |  __truediv__(...)\n",
        " |      x.__truediv__(y) <==> x/y\n",
        " |  \n",
        " |  __trunc__(...)\n",
        " |      Truncating an Integral returns itself.\n",
        " |  \n",
        " |  __xor__(...)\n",
        " |      x.__xor__(y) <==> x^y\n",
        " |  \n",
        " |  bit_length(...)\n",
        " |      int.bit_length() -> int\n",
        " |      \n",
        " |      Number of bits necessary to represent self in binary.\n",
        " |      >>> bin(37)\n",
        " |      '0b100101'\n",
        " |      >>> (37).bit_length()\n",
        " |      6\n",
        " |  \n",
        " |  conjugate(...)\n",
        " |      Returns self, the complex conjugate of any int.\n",
        " |  \n",
        " |  ----------------------------------------------------------------------\n",
        " |  Data descriptors defined here:\n",
        " |  \n",
        " |  denominator\n",
        " |      the denominator of a rational number in lowest terms\n",
        " |  \n",
        " |  imag\n",
        " |      the imaginary part of a complex number\n",
        " |  \n",
        " |  numerator\n",
        " |      the numerator of a rational number in lowest terms\n",
        " |  \n",
        " |  real\n",
        " |      the real part of a complex number\n",
        " |  \n",
        " |  ----------------------------------------------------------------------\n",
        " |  Data and other attributes defined here:\n",
        " |  \n",
        " |  __new__ = <built-in method __new__ of type object>\n",
        " |      T.__new__(S, ...) -> a new object with type S, a subtype of T\n",
        "\n"
       ]
      }
     ],
     "prompt_number": 25
    },
    {
     "cell_type": "code",
     "collapsed": false,
     "input": [
      "v.index?"
     ],
     "language": "python",
     "metadata": {},
     "outputs": [],
     "prompt_number": 26
    },
    {
     "cell_type": "markdown",
     "metadata": {},
     "source": [
      "Next, dictionaries! There are multiple ways to make a dictionary. They are defined with curly braces."
     ]
    },
    {
     "cell_type": "code",
     "collapsed": false,
     "input": [
      "# number 1... curly braces & colons\n",
      "d = {\"favorite cat\": None,\n",
      "     \"favorite spam\": \"all\"}\n",
      "d"
     ],
     "language": "python",
     "metadata": {},
     "outputs": [
      {
       "metadata": {},
       "output_type": "pyout",
       "prompt_number": 27,
       "text": [
        "{'favorite cat': None, 'favorite spam': 'all'}"
       ]
      }
     ],
     "prompt_number": 27
    },
    {
     "cell_type": "code",
     "collapsed": false,
     "input": [
      "# number 3 ... just start filling in items/keys\n",
      "d = {}  # empty dictionary\n",
      "d['cat'] = 'dog'\n",
      "d['one'] = 1\n",
      "d['two'] = 2\n",
      "d"
     ],
     "language": "python",
     "metadata": {},
     "outputs": [
      {
       "metadata": {},
       "output_type": "pyout",
       "prompt_number": 28,
       "text": [
        "{'cat': 'dog', 'one': 1, 'two': 2}"
       ]
      }
     ],
     "prompt_number": 28
    },
    {
     "cell_type": "code",
     "collapsed": false,
     "input": [
      "# number 4... start with a list of tuples\n",
      "mylist = [(\"cat\",\"dog\"), (\"one\",1), (\"two\",2)]\n",
      "dict(mylist)"
     ],
     "language": "python",
     "metadata": {},
     "outputs": [
      {
       "metadata": {},
       "output_type": "pyout",
       "prompt_number": 29,
       "text": [
        "{'cat': 'dog', 'one': 1, 'two': 2}"
       ]
      }
     ],
     "prompt_number": 29
    },
    {
     "cell_type": "markdown",
     "metadata": {},
     "source": [
      "order doesn't matter! "
     ]
    },
    {
     "cell_type": "code",
     "collapsed": false,
     "input": [
      "d[0]"
     ],
     "language": "python",
     "metadata": {},
     "outputs": [
      {
       "ename": "KeyError",
       "evalue": "0",
       "output_type": "pyerr",
       "traceback": [
        "\u001b[0;31m---------------------------------------------------------------------------\u001b[0m\n\u001b[0;31mKeyError\u001b[0m                                  Traceback (most recent call last)",
        "\u001b[0;32m<ipython-input-30-17371c6688f6>\u001b[0m in \u001b[0;36m<module>\u001b[0;34m()\u001b[0m\n\u001b[0;32m----> 1\u001b[0;31m \u001b[0md\u001b[0m\u001b[0;34m[\u001b[0m\u001b[0;36m0\u001b[0m\u001b[0;34m]\u001b[0m\u001b[0;34m\u001b[0m\u001b[0m\n\u001b[0m",
        "\u001b[0;31mKeyError\u001b[0m: 0"
       ]
      }
     ],
     "prompt_number": 30
    },
    {
     "cell_type": "markdown",
     "metadata": {},
     "source": [
      "Lists: an alternative to for loops! For loops are slow in python and busy* ones should be avoided"
     ]
    },
    {
     "cell_type": "markdown",
     "metadata": {},
     "source": [
      "Especially nested for loops, they can be trouble. Of course, if it would take more time to rewrite the code than the time you would gain by rewriting it, then that's no good either...."
     ]
    },
    {
     "cell_type": "code",
     "collapsed": false,
     "input": [
      "\n",
      "L = []\n",
      "\n",
      "for num in range(100):\n",
      "    if (num % 7 == 0) or (num % 11 == 0):\n",
      "        L.append(num)\n",
      "print(len(L))"
     ],
     "language": "python",
     "metadata": {},
     "outputs": [
      {
       "output_type": "stream",
       "stream": "stdout",
       "text": [
        "23\n"
       ]
      }
     ],
     "prompt_number": 46
    },
    {
     "cell_type": "code",
     "collapsed": false,
     "input": [
      "L = [num for num in range(100)\\\n",
      "     if (num % 7 == 0) or (num % 11 == 0)]\n",
      "\n",
      "print(len(L))"
     ],
     "language": "python",
     "metadata": {},
     "outputs": [
      {
       "output_type": "stream",
       "stream": "stdout",
       "text": [
        "23\n"
       ]
      }
     ],
     "prompt_number": 47
    },
    {
     "cell_type": "code",
     "collapsed": false,
     "input": [
      "# Let's find all the near-earth Asteroids with 0.8 < a < 1.2 and e < 0.5.\n",
      "# Each element is (name, semi-major axis (AU), eccentricity, orbit class)\n",
      "# source: http://ssd.jpl.nasa.gov/sbdb_query.cgi\n",
      "\n",
      "Asteroids = [('Eros', 1.457916888347732, 0.2226769029627053, 'AMO'),\n",
      "             ('Albert', 2.629584157344544, 0.551788195302116, 'AMO'),\n",
      "             ('Alinda', 2.477642943521562, 0.5675993715753302, 'AMO'),\n",
      "             ('Ganymed', 2.662242764279804, 0.5339300994578989, 'AMO'),\n",
      "             ('Amor', 1.918987277620309, 0.4354863345648127, 'AMO'),\n",
      "             ('Icarus', 1.077941311539208, 0.826950446001521, 'APO'),\n",
      "             ('Betulia', 2.196489260519891, 0.4876246891992282, 'AMO'),\n",
      "             ('Geographos', 1.245477192797457, 0.3355407124897842, 'APO'),\n",
      "             ('Ivar', 1.862724540418448, 0.3968541470639658, 'AMO'),\n",
      "             ('Toro', 1.367247622946547, 0.4358829575017499, 'APO'),\n",
      "             ('Apollo', 1.470694262588244, 0.5598306817483757, 'APO'),\n",
      "             ('Antinous', 2.258479598510079, 0.6070051516585434, 'APO'),\n",
      "             ('Daedalus', 1.460912865705988, 0.6144629118218898, 'APO'),\n",
      "             ('Cerberus', 1.079965807367047, 0.4668134997419173, 'APO'),\n",
      "             ('Sisyphus', 1.893726635847921, 0.5383319204425762, 'APO'),\n",
      "             ('Quetzalcoatl', 2.544270656955212, 0.5704591861565643, 'AMO'),\n",
      "             ('Boreas', 2.271958775354725, 0.4499332278634067, 'AMO'),\n",
      "             ('Cuyo', 2.150453953345012, 0.5041719257675564, 'AMO'),\n",
      "             ('Anteros', 1.430262719980132, 0.2558054402785934, 'AMO'),\n",
      "             ('Tezcatlipoca', 1.709753263222791, 0.3647772103513082, 'AMO'),\n",
      "             ('Midas', 1.775954494579457, 0.6503697243919138, 'APO'),\n",
      "             ('Baboquivari', 2.646202507670927, 0.5295611095751231, 'AMO'),\n",
      "             ('Anza', 2.26415089613359, 0.5371603112900858, 'AMO'),\n",
      "             ('Aten', 0.9668828078092987, 0.1827831025175614, 'ATE'),\n",
      "             ('Bacchus', 1.078135348117527, 0.3495569270441645, 'APO'),\n",
      "             ('Ra-Shalom', 0.8320425524852308, 0.4364726062545577, 'ATE'),\n",
      "             ('Adonis', 1.874315684524321, 0.763949321566, 'APO'),\n",
      "             ('Tantalus', 1.289997492877751, 0.2990853014998932, 'APO'),\n",
      "             ('Aristaeus', 1.599511990737142, 0.5030618532252225, 'APO'),\n",
      "             ('Oljato', 2.172056090036035, 0.7125729402616418, 'APO'),\n",
      "             ('Pele', 2.291471988746353, 0.5115484924883255, 'AMO'),\n",
      "             ('Hephaistos', 2.159619960333728, 0.8374146846143349, 'APO'),\n",
      "             ('Orthos', 2.404988778495748, 0.6569133796135244, 'APO'),\n",
      "             ('Hathor', 0.8442121506103012, 0.4498204013480316, 'ATE'),\n",
      "             ('Beltrovata', 2.104690977122337, 0.413731105995413, 'AMO'),\n",
      "             ('Seneca', 2.516402574514213, 0.5708728441169761, 'AMO'),\n",
      "             ('Krok', 2.152545170235639, 0.4478259793515817, 'AMO'),\n",
      "             ('Eger', 1.404478323548423, 0.3542971360331806, 'APO'),\n",
      "             ('Florence', 1.768227407864309, 0.4227761019048867, 'AMO'),\n",
      "             ('Nefertiti', 1.574493139339916, 0.283902719273878, 'AMO'),\n",
      "             ('Phaethon', 1.271195939723604, 0.8898716672181355, 'APO'),\n",
      "             ('Ul', 2.102493486378346, 0.3951143067760007, 'AMO'),\n",
      "             ('Seleucus', 2.033331705805067, 0.4559159977082651, 'AMO'),\n",
      "             ('McAuliffe', 1.878722427225527, 0.3691521497610656, 'AMO'),\n",
      "             ('Syrinx', 2.469752836845105, 0.7441934504192601, 'APO'),\n",
      "             ('Orpheus', 1.209727780883745, 0.3229034563257626, 'APO'),\n",
      "             ('Khufu', 0.989473784873371, 0.468479627898914, 'ATE'),\n",
      "             ('Verenia', 2.093231870619781, 0.4865133359612604, 'AMO'),\n",
      "             ('\"Don Quixote\"', 4.221712367193639, 0.7130894892477316, 'AMO'),\n",
      "             ('Mera', 1.644476057737928, 0.3201425983025733, 'AMO')]\n",
      "\n",
      "orbit_class = {'AMO':'Amor', 'APO':'Apollo', 'ATE':'Aten'}"
     ],
     "language": "python",
     "metadata": {},
     "outputs": [],
     "prompt_number": 48
    },
    {
     "cell_type": "code",
     "collapsed": false,
     "input": [
      "# first we'll build the list using loops.\n",
      "L = []\n",
      "for data in Asteroids:\n",
      "    name, a, e, t = data\n",
      "    if abs(a - 1) < 0.2 and e < 0.5:\n",
      "        L.append(name)\n",
      "print(L)"
     ],
     "language": "python",
     "metadata": {},
     "outputs": [
      {
       "output_type": "stream",
       "stream": "stdout",
       "text": [
        "['Cerberus', 'Aten', 'Bacchus', 'Ra-Shalom', 'Hathor', 'Khufu']\n"
       ]
      }
     ],
     "prompt_number": 49
    },
    {
     "cell_type": "heading",
     "level": 6,
     "metadata": {},
     "source": [
      "Breakout time!"
     ]
    },
    {
     "cell_type": "markdown",
     "metadata": {},
     "source": [
      "1) Do the same thing, with a list comprehension instead of a for loop.\n",
      "\n",
      "2) Create a dictionary using a list comprehension so that \"print(D['Eros'])\" returns (1.457916888347732, 0.2226769029627053, 'AMO')\n",
      "\n",
      "3) Challenge set:\n",
      "\n",
      "Using the above Asteroid list,\n",
      "\n",
      "print the list sorted in alphabetical order by asteroid name (hint: how does sorting handle a list of tuples?)\n",
      "print the list sorted by semi-major axis\n",
      "print the list sorted by name, but replace the class code with the class name\n",
      "\n",
      "The output should be formatted like this:\n",
      "\n"
     ]
    },
    {
     "cell_type": "raw",
     "metadata": {},
     "source": [
      "Asteroid name    a (AU)    e        class\n",
      "-----------------------------------------\n",
      "Eros             1.4578    0.2226   Amor\n",
      "Albert           2.6292    0.5518   Amor\n",
      ".\n",
      ".\n",
      "."
     ]
    },
    {
     "cell_type": "markdown",
     "metadata": {},
     "source": [
      "Bonus points if you can get the columns to line up nicely!"
     ]
    },
    {
     "cell_type": "heading",
     "level": 6,
     "metadata": {},
     "source": [
      "Tomorrow: Functions, modules, and writing beautiful code."
     ]
    },
    {
     "cell_type": "code",
     "collapsed": false,
     "input": [],
     "language": "python",
     "metadata": {},
     "outputs": []
    }
   ],
   "metadata": {}
  }
 ]
}
