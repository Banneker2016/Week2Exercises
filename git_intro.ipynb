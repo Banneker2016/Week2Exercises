{
 "cells": [
  {
   "cell_type": "markdown",
   "metadata": {},
   "source": [
    "# Introduction to git"
   ]
  },
  {
   "cell_type": "markdown",
   "metadata": {},
   "source": [
    "Ideal: You want research to be *portable* and *reproducible*\n",
    "\n",
    "* portable: e.g., you want to work on the same code on different computers\n",
    "\n",
    "* reproducible: you want to be able to return to your code in 6 months, pass your code to someone else and have it work for them, etc.\n",
    "\n",
    "Central concept:  a **repository**.  A repository is a collection of linked snapshots of files that together describe the complete history of changes."
   ]
  },
  {
   "cell_type": "markdown",
   "metadata": {},
   "source": [
    "## Making a repository and basic workflow"
   ]
  },
  {
   "cell_type": "markdown",
   "metadata": {},
   "source": [
    "1. Create repository on github.com\n",
    "    - click 'new'\n",
    "    - choose public/private\n",
    "    - added Python gitignore\n",
    "    - MIT license\n",
    "\n",
    "2.  From terminal (ideally within a 'repositories' directory), enter command:\n",
    "\n",
    "        $ git clone https://github.com/<github user name>/<repo name>.git\n",
    "    \n",
    "    This copies the repo from github.com to my computer.\n",
    "    \n",
    "3. Edited some file(s), save changes to local computer.\n",
    "\n",
    "4. If I **create a new file** on my computer and want git to track it, I have to add it to the repository:\n",
    "\n",
    "        $ git add filename.py\n",
    "\n",
    "5. Commit those changes to *local* repository:\n",
    "\n",
    "        $ git commit -am 'something interesting'\n",
    "    \n",
    "6. Now, sync back to github:\n",
    "\n",
    "        $ git push\n",
    "        \n",
    "7.  At any point, we can check the status of the repository (see what files have changed, if there are untracked files, etc.) by entering:\n",
    "\n",
    "        $ git status\n",
    "        \n",
    "8.  Whenever you start working (for a particular work session) on a computer, have the first command you do within the repository folder be `git pull`.\n",
    "\n",
    "9.  Complementarily, when you *stop* working for a session, make sure you `git push`.\n",
    "    \n",
    " "
   ]
  },
  {
   "cell_type": "markdown",
   "metadata": {},
   "source": [
    "## \"Gotcha\"'s that you might run across"
   ]
  },
  {
   "cell_type": "markdown",
   "metadata": {},
   "source": [
    "1. git is complaining that it doesn't know who you are:  listen to it in order to change the email/name that it assigns to you. \n",
    "\n",
    "2. Running some git command pops up a mysterious text-editor window that you can't get out of.  This most likely is `vim` or `vi`, a command-line text editor.  It's most likely asking you to confirm a default commit message.  You need to save the open file and quit the editor---you do this by typing `:wq` and then pressing enter (this stands for \"write/quit\").\n",
    "\n",
    "3.  Merge conflict!  If you get a message that says CONFLICT, then you can open the files that are conflicted, and pick which version you want (remove the `>>>>>>>` and `=======`, etc. lines)\n",
    "\n",
    "4.  Doesn't let you push, with some error like \"rejected!\"  \"failed to push some refs\" etc.  What this means is that you have some changes remotely that you haven't yet pulled locally.  Do a `git pull` (you will probably have to deal with `vim` at this stage (point 2.) and then `git push` again."
   ]
  },
  {
   "cell_type": "code",
   "execution_count": null,
   "metadata": {
    "collapsed": true
   },
   "outputs": [],
   "source": []
  }
 ],
 "metadata": {
  "kernelspec": {
   "display_name": "Python 2",
   "language": "python",
   "name": "python2"
  },
  "language_info": {
   "codemirror_mode": {
    "name": "ipython",
    "version": 2
   },
   "file_extension": ".py",
   "mimetype": "text/x-python",
   "name": "python",
   "nbconvert_exporter": "python",
   "pygments_lexer": "ipython2",
   "version": "2.7.10"
  }
 },
 "nbformat": 4,
 "nbformat_minor": 0
}
