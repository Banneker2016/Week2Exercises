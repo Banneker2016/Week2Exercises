{
 "cells": [
  {
   "cell_type": "code",
   "execution_count": 2,
   "metadata": {
    "collapsed": false
   },
   "outputs": [],
   "source": [
    "Asteroids = [('Eros', 1.457916888347732, 0.2226769029627053, 'AMO'),\n",
    "             ('Albert', 2.629584157344544, 0.551788195302116, 'AMO'),\n",
    "             ('Alinda', 2.477642943521562, 0.5675993715753302, 'AMO'),\n",
    "             ('Ganymed', 2.662242764279804, 0.5339300994578989, 'AMO'),\n",
    "             ('Amor', 1.918987277620309, 0.4354863345648127, 'AMO'),\n",
    "             ('Icarus', 1.077941311539208, 0.826950446001521, 'APO'),\n",
    "             ('Betulia', 2.196489260519891, 0.4876246891992282, 'AMO'),\n",
    "             ('Geographos', 1.245477192797457, 0.3355407124897842, 'APO'),\n",
    "             ('Ivar', 1.862724540418448, 0.3968541470639658, 'AMO'),\n",
    "             ('Toro', 1.367247622946547, 0.4358829575017499, 'APO'),\n",
    "             ('Apollo', 1.470694262588244, 0.5598306817483757, 'APO'),\n",
    "             ('Antinous', 2.258479598510079, 0.6070051516585434, 'APO'),\n",
    "             ('Daedalus', 1.460912865705988, 0.6144629118218898, 'APO'),\n",
    "             ('Cerberus', 1.079965807367047, 0.4668134997419173, 'APO'),\n",
    "             ('Sisyphus', 1.893726635847921, 0.5383319204425762, 'APO'),\n",
    "             ('Quetzalcoatl', 2.544270656955212, 0.5704591861565643, 'AMO'),\n",
    "             ('Boreas', 2.271958775354725, 0.4499332278634067, 'AMO'),\n",
    "             ('Cuyo', 2.150453953345012, 0.5041719257675564, 'AMO'),\n",
    "             ('Anteros', 1.430262719980132, 0.2558054402785934, 'AMO'),\n",
    "             ('Tezcatlipoca', 1.709753263222791, 0.3647772103513082, 'AMO'),\n",
    "             ('Midas', 1.775954494579457, 0.6503697243919138, 'APO'),\n",
    "             ('Baboquivari', 2.646202507670927, 0.5295611095751231, 'AMO'),\n",
    "             ('Anza', 2.26415089613359, 0.5371603112900858, 'AMO'),\n",
    "             ('Aten', 0.9668828078092987, 0.1827831025175614, 'ATE'),\n",
    "             ('Bacchus', 1.078135348117527, 0.3495569270441645, 'APO'),\n",
    "             ('Ra-Shalom', 0.8320425524852308, 0.4364726062545577, 'ATE'),\n",
    "             ('Adonis', 1.874315684524321, 0.763949321566, 'APO'),\n",
    "             ('Tantalus', 1.289997492877751, 0.2990853014998932, 'APO'),\n",
    "             ('Aristaeus', 1.599511990737142, 0.5030618532252225, 'APO'),\n",
    "             ('Oljato', 2.172056090036035, 0.7125729402616418, 'APO'),\n",
    "             ('Pele', 2.291471988746353, 0.5115484924883255, 'AMO'),\n",
    "             ('Hephaistos', 2.159619960333728, 0.8374146846143349, 'APO'),\n",
    "             ('Orthos', 2.404988778495748, 0.6569133796135244, 'APO'),\n",
    "             ('Hathor', 0.8442121506103012, 0.4498204013480316, 'ATE'),\n",
    "             ('Beltrovata', 2.104690977122337, 0.413731105995413, 'AMO'),\n",
    "             ('Seneca', 2.516402574514213, 0.5708728441169761, 'AMO'),\n",
    "             ('Krok', 2.152545170235639, 0.4478259793515817, 'AMO'),\n",
    "             ('Eger', 1.404478323548423, 0.3542971360331806, 'APO'),\n",
    "             ('Florence', 1.768227407864309, 0.4227761019048867, 'AMO'),\n",
    "             ('Nefertiti', 1.574493139339916, 0.283902719273878, 'AMO'),\n",
    "             ('Phaethon', 1.271195939723604, 0.8898716672181355, 'APO'),\n",
    "             ('Ul', 2.102493486378346, 0.3951143067760007, 'AMO'),\n",
    "             ('Seleucus', 2.033331705805067, 0.4559159977082651, 'AMO'),\n",
    "             ('McAuliffe', 1.878722427225527, 0.3691521497610656, 'AMO'),\n",
    "             ('Syrinx', 2.469752836845105, 0.7441934504192601, 'APO'),\n",
    "             ('Orpheus', 1.209727780883745, 0.3229034563257626, 'APO'),\n",
    "             ('Khufu', 0.989473784873371, 0.468479627898914, 'ATE'),\n",
    "             ('Verenia', 2.093231870619781, 0.4865133359612604, 'AMO'),\n",
    "             ('\"Don Quixote\"', 4.221712367193639, 0.7130894892477316, 'AMO'),\n",
    "             ('Mera', 1.644476057737928, 0.3201425983025733, 'AMO')]\n",
    "\n",
    "orbit_class = {'AMO':'Amor', 'APO':'Apollo', 'ATE':'Aten'}\n",
    "\n",
    "\n",
    "\n"
   ]
  },
  {
   "cell_type": "code",
   "execution_count": 7,
   "metadata": {
    "collapsed": false
   },
   "outputs": [
    {
     "data": {
      "image/png": "[encoded data removed]",
      "text/plain": [
       "<matplotlib.figure.Figure at 0x108ca3bd0>"
      ]
     },
     "metadata": {},
     "output_type": "display_data"
    },
    {
     "ename": "ImportError",
     "evalue": "No module named py",
     "output_type": "error",
     "traceback": [
      "\u001b[0;31m---------------------------------------------------------------------------\u001b[0m",
      "\u001b[0;31mImportError\u001b[0m                               Traceback (most recent call last)",
      "\u001b[0;32m<ipython-input-7-78ab9006b096>\u001b[0m in \u001b[0;36m<module>\u001b[0;34m()\u001b[0m\n\u001b[1;32m      2\u001b[0m \u001b[0;32mimport\u001b[0m \u001b[0mmatplotlib\u001b[0m\u001b[0;34m.\u001b[0m\u001b[0mpyplot\u001b[0m \u001b[0;32mas\u001b[0m \u001b[0mplt\u001b[0m\u001b[0;34m\u001b[0m\u001b[0m\n\u001b[1;32m      3\u001b[0m \u001b[0;32mimport\u001b[0m \u001b[0mnumpy\u001b[0m \u001b[0;32mas\u001b[0m \u001b[0mnp\u001b[0m\u001b[0;34m\u001b[0m\u001b[0m\n\u001b[0;32m----> 4\u001b[0;31m \u001b[0;32mimport\u001b[0m \u001b[0mLauren_plot_asteroids\u001b[0m\u001b[0;34m.\u001b[0m\u001b[0mpy\u001b[0m \u001b[0;32mas\u001b[0m \u001b[0mlp\u001b[0m\u001b[0;34m\u001b[0m\u001b[0m\n\u001b[0m\u001b[1;32m      5\u001b[0m \u001b[0mAsteroids\u001b[0m\u001b[0;34m=\u001b[0m\u001b[0mnp\u001b[0m\u001b[0;34m.\u001b[0m\u001b[0marray\u001b[0m\u001b[0;34m(\u001b[0m\u001b[0mAsteroids\u001b[0m\u001b[0;34m)\u001b[0m\u001b[0;34m\u001b[0m\u001b[0m\n\u001b[1;32m      6\u001b[0m \u001b[0mx\u001b[0m\u001b[0;34m=\u001b[0m\u001b[0mAsteroids\u001b[0m\u001b[0;34m[\u001b[0m\u001b[0;34m:\u001b[0m\u001b[0;34m,\u001b[0m\u001b[0;36m1\u001b[0m\u001b[0;34m]\u001b[0m\u001b[0;34m\u001b[0m\u001b[0m\n",
      "\u001b[0;31mImportError\u001b[0m: No module named py"
     ]
    }
   ],
   "source": [
    "%matplotlib inline\n",
    "import matplotlib.pyplot as plt\n",
    "import numpy as np \n",
    "import Lauren_plot_asteroids.py as lp\n",
    "Asteroids=np.array(Asteroids)\n",
    "x=Asteroids[:,1]\n",
    "y=Asteroids[:,2]\n",
    "plot=plt.scatter(x,y)\n"
   ]
  },
  {
   "cell_type": "code",
   "execution_count": null,
   "metadata": {
    "collapsed": true
   },
   "outputs": [],
   "source": []
  }
 ],
 "metadata": {
  "kernelspec": {
   "display_name": "Python 2",
   "language": "python",
   "name": "python2"
  },
  "language_info": {
   "codemirror_mode": {
    "name": "ipython",
    "version": 2
   },
   "file_extension": ".py",
   "mimetype": "text/x-python",
   "name": "python",
   "nbconvert_exporter": "python",
   "pygments_lexer": "ipython2",
   "version": "2.7.11"
  }
 },
 "nbformat": 4,
 "nbformat_minor": 0
}
